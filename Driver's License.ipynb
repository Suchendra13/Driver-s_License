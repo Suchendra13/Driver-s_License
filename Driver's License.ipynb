{
 "cells": [
  {
   "cell_type": "markdown",
   "id": "c3f0dff9-1d1e-441a-a152-6d66f5e22950",
   "metadata": {},
   "source": [
    "# Importing all the necessary libraries"
   ]
  },
  {
   "cell_type": "code",
   "execution_count": 25,
   "id": "20867106-c89e-4200-8337-02769213b89d",
   "metadata": {},
   "outputs": [],
   "source": [
    "import numpy as np\n",
    "import pandas as pd\n",
    "import matplotlib.pyplot as plt\n",
    "import seaborn as sns\n",
    "\n",
    "from sklearn.model_selection import train_test_split\n",
    "from sklearn.linear_model import LogisticRegression\n",
    "from sklearn.metrics import accuracy_score, confusion_matrix, classification_report\n",
    "from sklearn.preprocessing import LabelEncoder, OneHotEncoder\n",
    "from sklearn.compose import ColumnTransformer\n",
    "from sklearn.pipeline import Pipeline"
   ]
  },
  {
   "cell_type": "markdown",
   "id": "93fa3eed-8918-44fa-b5f1-f04f767a2382",
   "metadata": {},
   "source": [
    "# Loading the dataset"
   ]
  },
  {
   "cell_type": "code",
   "execution_count": 26,
   "id": "7903f8e2-e87a-4a50-b290-b3a95b209d45",
   "metadata": {},
   "outputs": [],
   "source": [
    "License_Data = pd.read_csv(\"E:/Machine Learning/Drivers License Data.csv\")"
   ]
  },
  {
   "cell_type": "code",
   "execution_count": 27,
   "id": "27d4efca-f998-45ed-aa19-0cef61495128",
   "metadata": {},
   "outputs": [
    {
     "name": "stdout",
     "output_type": "stream",
     "text": [
      "    Applicant ID  Gender    Age Group   Race  Training  Signals  Yield  \\\n",
      "0        AID0001    Male  Young Adult  Other       NaN    38.48  30.29   \n",
      "1        AID0002  Female  Young Adult  Black       NaN    51.76  19.13   \n",
      "2        AID0003    Male   Middle Age  Black       NaN    30.21  48.13   \n",
      "3        AID0004    Male  Young Adult  Other       NaN    34.75  47.28   \n",
      "4        AID0005    Male     Teenager  Other  Advanced    78.52  83.93   \n",
      "..           ...     ...          ...    ...       ...      ...    ...   \n",
      "495      AID0496    Male   Middle Age  Other     Basic    49.10  54.83   \n",
      "496      AID0497    Male  Young Adult  White     Basic    50.68  42.22   \n",
      "497      AID0498  Female  Young Adult  Black       NaN    33.43  70.27   \n",
      "498      AID0499    Male   Middle Age  Black     Basic    50.07  51.41   \n",
      "499      AID0500  Female  Young Adult  Black     Basic    47.38  67.98   \n",
      "\n",
      "     Speed Control  Night Drive  Road Signs  Steer Control  Mirror Usage  \\\n",
      "0            37.03        33.53       39.61          58.16         53.42   \n",
      "1            63.05        34.87       19.56          16.48         27.97   \n",
      "2            43.13        42.43       60.93          20.74         28.86   \n",
      "3            50.49        42.10       22.52          33.87         48.52   \n",
      "4            59.79        52.68       67.47          89.24         30.31   \n",
      "..             ...          ...         ...            ...           ...   \n",
      "495          51.93        42.94       64.52          52.17         47.79   \n",
      "496          34.65        40.90       67.46          56.48         63.35   \n",
      "497          34.38        35.79       35.28          44.86         31.18   \n",
      "498          64.32        60.77       40.68          57.59         49.60   \n",
      "499          44.90        47.17       44.44          52.28         55.87   \n",
      "\n",
      "     Confidence  Parking  Theory Test Reactions Qualified  \n",
      "0         35.32    38.19        70.68   Average        No  \n",
      "1         22.91    24.23        78.18   Average        No  \n",
      "2         32.32    44.11        79.60      Fast       Yes  \n",
      "3         24.90    37.56        57.34   Average        No  \n",
      "4         43.85    55.91        78.44   Average       Yes  \n",
      "..          ...      ...          ...       ...       ...  \n",
      "495       45.01    59.57        78.32   Average        No  \n",
      "496       48.32    45.02        71.93   Average        No  \n",
      "497       31.09    37.32        86.10      Fast        No  \n",
      "498       62.72    36.53        85.48   Average        No  \n",
      "499       54.50    53.95        77.07   Average        No  \n",
      "\n",
      "[500 rows x 17 columns]\n"
     ]
    }
   ],
   "source": [
    "print(License_Data)"
   ]
  },
  {
   "cell_type": "code",
   "execution_count": 28,
   "id": "c8fe31e9-5978-4113-b7e5-d4c841d10c80",
   "metadata": {},
   "outputs": [
    {
     "name": "stdout",
     "output_type": "stream",
     "text": [
      "  Applicant ID  Gender    Age Group   Race  Training  Signals  Yield  \\\n",
      "0      AID0001    Male  Young Adult  Other       NaN    38.48  30.29   \n",
      "1      AID0002  Female  Young Adult  Black       NaN    51.76  19.13   \n",
      "2      AID0003    Male   Middle Age  Black       NaN    30.21  48.13   \n",
      "3      AID0004    Male  Young Adult  Other       NaN    34.75  47.28   \n",
      "4      AID0005    Male     Teenager  Other  Advanced    78.52  83.93   \n",
      "\n",
      "   Speed Control  Night Drive  Road Signs  Steer Control  Mirror Usage  \\\n",
      "0          37.03        33.53       39.61          58.16         53.42   \n",
      "1          63.05        34.87       19.56          16.48         27.97   \n",
      "2          43.13        42.43       60.93          20.74         28.86   \n",
      "3          50.49        42.10       22.52          33.87         48.52   \n",
      "4          59.79        52.68       67.47          89.24         30.31   \n",
      "\n",
      "   Confidence  Parking  Theory Test Reactions Qualified  \n",
      "0       35.32    38.19        70.68   Average        No  \n",
      "1       22.91    24.23        78.18   Average        No  \n",
      "2       32.32    44.11        79.60      Fast       Yes  \n",
      "3       24.90    37.56        57.34   Average        No  \n",
      "4       43.85    55.91        78.44   Average       Yes  \n"
     ]
    }
   ],
   "source": [
    "print(License_Data.head())"
   ]
  },
  {
   "cell_type": "code",
   "execution_count": 29,
   "id": "c89a650c-e8d5-4b8b-8ede-ea78440f93ee",
   "metadata": {},
   "outputs": [],
   "source": [
    "X = License_Data.drop(['Qualified', 'Applicant ID'], axis=1)\n",
    "Y = License_Data['Qualified']"
   ]
  },
  {
   "cell_type": "markdown",
   "id": "4620878b-b36f-4594-95ad-4fbe29e30da2",
   "metadata": {},
   "source": [
    "# Exploratory Data Analysis"
   ]
  },
  {
   "cell_type": "code",
   "execution_count": 30,
   "id": "5387a647-09b6-4cf4-b288-4af312716045",
   "metadata": {},
   "outputs": [
    {
     "name": "stdout",
     "output_type": "stream",
     "text": [
      "(500, 17)\n"
     ]
    }
   ],
   "source": [
    "print(License_Data.shape)"
   ]
  },
  {
   "cell_type": "code",
   "execution_count": 31,
   "id": "bf6f3da6-b4cb-4fc4-8fde-f8dd97a55b2c",
   "metadata": {},
   "outputs": [
    {
     "name": "stdout",
     "output_type": "stream",
     "text": [
      "Applicant ID       0\n",
      "Gender             0\n",
      "Age Group          0\n",
      "Race               0\n",
      "Training         150\n",
      "Signals            0\n",
      "Yield              0\n",
      "Speed Control      0\n",
      "Night Drive        0\n",
      "Road Signs         0\n",
      "Steer Control      0\n",
      "Mirror Usage       0\n",
      "Confidence         0\n",
      "Parking            0\n",
      "Theory Test        0\n",
      "Reactions          0\n",
      "Qualified          0\n",
      "dtype: int64\n"
     ]
    }
   ],
   "source": [
    "print(License_Data.isnull().sum())"
   ]
  },
  {
   "cell_type": "code",
   "execution_count": 32,
   "id": "5f336c74-b34c-4dd2-81a1-ce068f411abb",
   "metadata": {},
   "outputs": [],
   "source": [
    "Qualified = LabelEncoder()\n",
    "Y = Qualified.fit_transform(Y)"
   ]
  },
  {
   "cell_type": "code",
   "execution_count": 33,
   "id": "50a43c16-40bf-4e41-8b4a-e4efeeed9ed5",
   "metadata": {},
   "outputs": [],
   "source": [
    "categorical_features = ['Gender', 'Age Group', 'Race', 'Training', 'Reactions']\n",
    "numerical_features = X.select_dtypes(include=['number']).columns.tolist()"
   ]
  },
  {
   "cell_type": "code",
   "execution_count": 34,
   "id": "18b58b99-48ce-43af-9cf9-6693fd412988",
   "metadata": {},
   "outputs": [],
   "source": [
    "preprocessor = ColumnTransformer(\n",
    "    transformers=[\n",
    "        ('num', 'passthrough', numerical_features),\n",
    "        ('cat', OneHotEncoder(handle_unknown='ignore'), categorical_features)\n",
    "    ],\n",
    "    remainder='passthrough'\n",
    ")"
   ]
  },
  {
   "cell_type": "code",
   "execution_count": 35,
   "id": "68ef04a7-ace0-4170-a6b9-a2a07505625c",
   "metadata": {},
   "outputs": [],
   "source": [
    "model = Pipeline(steps=[\n",
    "    ('preprocessor', preprocessor),\n",
    "    ('classifier', LogisticRegression(max_iter=1000, random_state=42))\n",
    "])"
   ]
  },
  {
   "cell_type": "markdown",
   "id": "f7b99b98-a679-465c-a9f9-5236ef3eba93",
   "metadata": {},
   "source": [
    "# Splitting, training and testing data"
   ]
  },
  {
   "cell_type": "code",
   "execution_count": 36,
   "id": "016030c7-f795-46b3-afa2-3ccdf1d6b012",
   "metadata": {},
   "outputs": [],
   "source": [
    "X_train, X_test, y_train, y_test = train_test_split(X, Y, test_size=0.2, stratify=Y) #Splitting the data into training and testing dataset\n",
    "model.fit(X_train, y_train) #Train the model\n",
    "y_pred = model.predict(X_test)"
   ]
  },
  {
   "cell_type": "markdown",
   "id": "471fbf05-3d00-4147-a15a-79c9d2e57c39",
   "metadata": {},
   "source": [
    "# Evaluation of Model"
   ]
  },
  {
   "cell_type": "code",
   "execution_count": 37,
   "id": "78f2a5f9-c47e-43c0-b7ef-763df471eb16",
   "metadata": {},
   "outputs": [
    {
     "name": "stdout",
     "output_type": "stream",
     "text": [
      "Model Accuracy:\n",
      "0.84\n",
      "\n",
      "Confusion Matrix:\n",
      "[[42  8]\n",
      " [ 8 42]]\n",
      "\n",
      "Classification Report:\n",
      "               precision    recall  f1-score   support\n",
      "\n",
      "Not Qualified       0.84      0.84      0.84        50\n",
      "    Qualified       0.84      0.84      0.84        50\n",
      "\n",
      "     accuracy                           0.84       100\n",
      "    macro avg       0.84      0.84      0.84       100\n",
      " weighted avg       0.84      0.84      0.84       100\n",
      "\n"
     ]
    }
   ],
   "source": [
    "accuracy = accuracy_score(y_test, y_pred)\n",
    "conf_matrix = confusion_matrix(y_test, y_pred)\n",
    "class_report = classification_report(y_test, y_pred, target_names=['Not Qualified', 'Qualified'])\n",
    "\n",
    "print(\"Model Accuracy:\")\n",
    "print(accuracy)\n",
    "print(\"\\nConfusion Matrix:\")\n",
    "print(conf_matrix)\n",
    "print(\"\\nClassification Report:\")\n",
    "print(class_report)"
   ]
  },
  {
   "cell_type": "code",
   "execution_count": 38,
   "id": "d454fb01-18ab-4e81-9e30-2b862534b5a1",
   "metadata": {},
   "outputs": [
    {
     "data": {
      "image/png": "[encoded data removed]",
      "text/plain": [
       "<Figure size 800x600 with 2 Axes>"
      ]
     },
     "metadata": {},
     "output_type": "display_data"
    }
   ],
   "source": [
    "plt.figure(figsize=(8, 6))\n",
    "sns.heatmap(conf_matrix, annot=True, fmt='d', cmap='Blues',\n",
    "            xticklabels=['Not Qualified', 'Qualified'],\n",
    "            yticklabels=['Not Qualified', 'Qualified'])\n",
    "plt.title('Confusion Matrix for Driver Qualification')\n",
    "plt.ylabel('Actual')\n",
    "plt.xlabel('Predicted')\n",
    "plt.show()"
   ]
  }
 ],
 "metadata": {
  "kernelspec": {
   "display_name": "Python [conda env:base] *",
   "language": "python",
   "name": "conda-base-py"
  },
  "language_info": {
   "codemirror_mode": {
    "name": "ipython",
    "version": 3
   },
   "file_extension": ".py",
   "mimetype": "text/x-python",
   "name": "python",
   "nbconvert_exporter": "python",
   "pygments_lexer": "ipython3",
   "version": "3.12.7"
  }
 },
 "nbformat": 4,
 "nbformat_minor": 5
}
